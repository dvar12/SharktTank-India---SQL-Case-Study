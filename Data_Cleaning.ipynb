{
 "cells": [
  {
   "cell_type": "code",
   "execution_count": 1,
   "id": "b9ffe190",
   "metadata": {},
   "outputs": [],
   "source": [
    "import pandas as pd\n",
    "import numpy as np"
   ]
  },
  {
   "cell_type": "code",
   "execution_count": 2,
   "id": "e39f8692",
   "metadata": {},
   "outputs": [],
   "source": [
    "df=pd.read_csv(\"Shark Tank India (impure).csv\")"
   ]
  },
  {
   "cell_type": "code",
   "execution_count": 3,
   "id": "ec6e8461",
   "metadata": {},
   "outputs": [
    {
     "name": "stdout",
     "output_type": "stream",
     "text": [
      "<class 'pandas.core.frame.DataFrame'>\n",
      "RangeIndex: 478 entries, 0 to 477\n",
      "Data columns (total 52 columns):\n",
      " #   Column                               Non-Null Count  Dtype  \n",
      "---  ------                               --------------  -----  \n",
      " 0   Season_Number                        478 non-null    int64  \n",
      " 1   Startup_Name                         478 non-null    object \n",
      " 2   Episode_Number                       478 non-null    int64  \n",
      " 3   Pitch_Number                         478 non-null    int64  \n",
      " 4   Season_Start                         478 non-null    object \n",
      " 5   Season_End                           478 non-null    object \n",
      " 6   Original_Air_Date                    447 non-null    object \n",
      " 7   Episode_Title                        478 non-null    object \n",
      " 8   Anchor                               478 non-null    object \n",
      " 9   Industry                             478 non-null    object \n",
      " 10  Business_Description                 478 non-null    object \n",
      " 11  Company_Website                      466 non-null    object \n",
      " 12  Started_in                           355 non-null    float64\n",
      " 13  Number_of_Presenters                 478 non-null    int64  \n",
      " 14  Male_Presenters                      412 non-null    float64\n",
      " 15  Female_Presenters                    226 non-null    float64\n",
      " 16  Transgender_Presenters               3 non-null      float64\n",
      " 17  Couple_Presenters                    473 non-null    float64\n",
      " 18  Pitchers_Average_Age                 478 non-null    object \n",
      " 19  Pitchers_City                        473 non-null    object \n",
      " 20  Pitchers_State                       474 non-null    object \n",
      " 21  Yearly_Revenue(in_lakhs)             241 non-null    float64\n",
      " 22  Monthly_Sales(in_lakhs)              225 non-null    float64\n",
      " 23  Gross_Margin                         129 non-null    float64\n",
      " 24  Net_Margin                           73 non-null     float64\n",
      " 25  EBITDA                               23 non-null     float64\n",
      " 26  Cash_Burn                            64 non-null     object \n",
      " 27  SKUs                                 28 non-null     float64\n",
      " 28  Has_Patents                          43 non-null     object \n",
      " 29  Bootstrapped                         48 non-null     object \n",
      " 30  Original_Ask_Amount                  478 non-null    float64\n",
      " 31  Original_Offered_Equity(in_%)        478 non-null    float64\n",
      " 32  Valuation_Requested(in_lakhs)        478 non-null    float64\n",
      " 33  Received_Offer                       478 non-null    object \n",
      " 34  Accepted_Offer                       321 non-null    object \n",
      " 35  Total_Deal_Amount(in_lakhs)          268 non-null    float64\n",
      " 36  Total_Deal_Equity(%)                 268 non-null    float64\n",
      " 37  Number_of_Sharks_in_Deal             268 non-null    float64\n",
      " 38  Namita_Investment_Amount(in lakhs)   89 non-null     float64\n",
      " 39  Vineeta_Investment_Amount(in_lakhs)  68 non-null     float64\n",
      " 40  Anupam_Investment_Amount(in_lakhs)   75 non-null     float64\n",
      " 41  Aman_Investment_Amount(in_lakhs)     109 non-null    float64\n",
      " 42  Peyush_Investment_Amount((in_lakhs)  89 non-null     float64\n",
      " 43  Amit_Investment_Amount(in_lakhs)     35 non-null     float64\n",
      " 44  Ashneer_Investment_Amount            21 non-null     float64\n",
      " 45  Namita_Present                       389 non-null    object \n",
      " 46  Vineeta_Present                      318 non-null    object \n",
      " 47  Anupam_Present                       424 non-null    object \n",
      " 48  Aman_Present                         420 non-null    object \n",
      " 49  Peyush_Present                       307 non-null    object \n",
      " 50  Amit_Present                         137 non-null    object \n",
      " 51  Ashneer_Present                      99 non-null     object \n",
      "dtypes: float64(24), int64(4), object(24)\n",
      "memory usage: 194.3+ KB\n"
     ]
    }
   ],
   "source": [
    "df.info()"
   ]
  },
  {
   "cell_type": "code",
   "execution_count": 105,
   "id": "2a968bd4",
   "metadata": {},
   "outputs": [
    {
     "data": {
      "text/plain": [
       "Season_Number                          0\n",
       "Startup_Name                           0\n",
       "Episode_Number                         0\n",
       "Pitch_Number                           0\n",
       "Season_Start                           0\n",
       "Season_End                             0\n",
       "Anchor                                 0\n",
       "Industry                               0\n",
       "Business_Description                   0\n",
       "Started_in                             0\n",
       "Number_of_Presenters                   0\n",
       "Male_Presenters                        0\n",
       "Female_Presenters                      0\n",
       "Transgender_Presenters                 0\n",
       "Couple_Presenters                      0\n",
       "Pitchers_Average_Age                   0\n",
       "Pitchers_City                          0\n",
       "Pitchers_State                         0\n",
       "Yearly_Revenue(in_lakhs)               0\n",
       "Monthly_Sales(in_lakhs)                0\n",
       "Original_Ask_Amount                    0\n",
       "Original_Offered_Equity(in_%)          0\n",
       "Valuation_Requested(in_lakhs)          0\n",
       "Received_Offer                         0\n",
       "Accepted_Offer                         0\n",
       "Total_Deal_Amount(in_lakhs)            0\n",
       "Total_Deal_Equity(%)                   0\n",
       "Number_of_Sharks_in_Deal               0\n",
       "Namita_Investment_Amount(in_lakhs)     0\n",
       "Vineeta_Investment_Amount(in_lakhs)    0\n",
       "Anupam_Investment_Amount(in_lakhs)     0\n",
       "Aman_Investment_Amount(in_lakhs)       0\n",
       "Peyush_Investment_Amount(in_lakhs)     0\n",
       "Amit_Investment_Amount(in_lakhs)       0\n",
       "Ashneer_Investment_Amount              0\n",
       "Namita_Present                         0\n",
       "Vineeta_Present                        0\n",
       "Anupam_Present                         0\n",
       "Aman_Present                           0\n",
       "Peyush_Present                         0\n",
       "Amit_Present                           0\n",
       "Ashneer_Present                        0\n",
       "dtype: int64"
      ]
     },
     "execution_count": 105,
     "metadata": {},
     "output_type": "execute_result"
    }
   ],
   "source": [
    "#checking nUll Values\n",
    "df.isna().sum()"
   ]
  },
  {
   "cell_type": "code",
   "execution_count": 9,
   "id": "bbddf24b",
   "metadata": {},
   "outputs": [],
   "source": [
    "df['Male_Presenters'].fillna(0,inplace=True)"
   ]
  },
  {
   "cell_type": "code",
   "execution_count": 12,
   "id": "57b98d74",
   "metadata": {},
   "outputs": [],
   "source": [
    "df['Male_Presenters']=df['Male_Presenters'].astype('int')"
   ]
  },
  {
   "cell_type": "code",
   "execution_count": 14,
   "id": "ab294b33",
   "metadata": {},
   "outputs": [],
   "source": [
    "df['Female_Presenters'].fillna(0,inplace=True)"
   ]
  },
  {
   "cell_type": "code",
   "execution_count": 15,
   "id": "3ddae73d",
   "metadata": {},
   "outputs": [],
   "source": [
    "df['Female_Presenters']=df['Female_Presenters'].astype('int')"
   ]
  },
  {
   "cell_type": "code",
   "execution_count": 16,
   "id": "75db928a",
   "metadata": {},
   "outputs": [],
   "source": [
    "df['Transgender_Presenters'].fillna(0,inplace=True)"
   ]
  },
  {
   "cell_type": "code",
   "execution_count": 17,
   "id": "937c5403",
   "metadata": {},
   "outputs": [],
   "source": [
    "df['Transgender_Presenters']=df['Transgender_Presenters'].astype('int')"
   ]
  },
  {
   "cell_type": "code",
   "execution_count": 18,
   "id": "94b87588",
   "metadata": {},
   "outputs": [],
   "source": [
    "df['Couple_Presenters'].fillna(0,inplace=True)"
   ]
  },
  {
   "cell_type": "code",
   "execution_count": 20,
   "id": "9fb4e93c",
   "metadata": {},
   "outputs": [],
   "source": [
    "df['Couple_Presenters']=df['Couple_Presenters'].astype('int')"
   ]
  },
  {
   "cell_type": "code",
   "execution_count": 27,
   "id": "8fadf2ee",
   "metadata": {},
   "outputs": [],
   "source": [
    "df['Yearly_Revenue(in_lakhs)'].fillna(\"Not Mentioned\",inplace=True)"
   ]
  },
  {
   "cell_type": "code",
   "execution_count": 28,
   "id": "b7a831e2",
   "metadata": {},
   "outputs": [],
   "source": [
    "df['Monthly_Sales(in_lakhs)'].fillna(\"Not Mentioned\",inplace=True)"
   ]
  },
  {
   "cell_type": "code",
   "execution_count": 34,
   "id": "35613ac8",
   "metadata": {},
   "outputs": [],
   "source": [
    "df['Accepted_Offer'].fillna(\"Not Received\",inplace=True)"
   ]
  },
  {
   "cell_type": "code",
   "execution_count": 37,
   "id": "b9b2093d",
   "metadata": {},
   "outputs": [],
   "source": [
    "df['Total_Deal_Amount(in_lakhs)'].fillna(0,inplace=True)"
   ]
  },
  {
   "cell_type": "code",
   "execution_count": 39,
   "id": "355d9af3",
   "metadata": {},
   "outputs": [],
   "source": [
    "df['Total_Deal_Amount(in_lakhs)']=df['Total_Deal_Amount(in_lakhs)'].astype('int')"
   ]
  },
  {
   "cell_type": "code",
   "execution_count": 42,
   "id": "5b7dd845",
   "metadata": {},
   "outputs": [],
   "source": [
    "df['Total_Deal_Equity(%)'].fillna(0,inplace=True)"
   ]
  },
  {
   "cell_type": "code",
   "execution_count": 43,
   "id": "98711374",
   "metadata": {},
   "outputs": [],
   "source": [
    "df['Total_Deal_Equity(%)']=df['Total_Deal_Equity(%)'].astype('int')"
   ]
  },
  {
   "cell_type": "code",
   "execution_count": 45,
   "id": "b343d874",
   "metadata": {},
   "outputs": [],
   "source": [
    "df['Number_of_Sharks_in_Deal'].fillna(0,inplace=True)"
   ]
  },
  {
   "cell_type": "code",
   "execution_count": 46,
   "id": "6c82dc4b",
   "metadata": {},
   "outputs": [],
   "source": [
    "df['Number_of_Sharks_in_Deal']=df['Number_of_Sharks_in_Deal'].astype('int')"
   ]
  },
  {
   "cell_type": "code",
   "execution_count": 47,
   "id": "ba462fd8",
   "metadata": {},
   "outputs": [
    {
     "data": {
      "text/plain": [
       "89"
      ]
     },
     "execution_count": 47,
     "metadata": {},
     "output_type": "execute_result"
    }
   ],
   "source": [
    "df['Namita_Present'].isna().sum()"
   ]
  },
  {
   "cell_type": "code",
   "execution_count": 48,
   "id": "d9d3dbe6",
   "metadata": {},
   "outputs": [],
   "source": [
    "df['Namita_Present'].fillna('No',inplace=True)"
   ]
  },
  {
   "cell_type": "code",
   "execution_count": 49,
   "id": "bcd264c7",
   "metadata": {},
   "outputs": [],
   "source": [
    "df['Vineeta_Present'].fillna('No',inplace=True)"
   ]
  },
  {
   "cell_type": "code",
   "execution_count": 50,
   "id": "996f05b0",
   "metadata": {},
   "outputs": [],
   "source": [
    "df['Ashneer_Present'].fillna('No',inplace=True)"
   ]
  },
  {
   "cell_type": "code",
   "execution_count": 51,
   "id": "c056e210",
   "metadata": {},
   "outputs": [],
   "source": [
    "df['Aman_Present'].fillna('No',inplace=True)"
   ]
  },
  {
   "cell_type": "code",
   "execution_count": 52,
   "id": "1afb70ca",
   "metadata": {},
   "outputs": [],
   "source": [
    "df['Anupam_Present'].fillna('No',inplace=True)"
   ]
  },
  {
   "cell_type": "code",
   "execution_count": 53,
   "id": "9090c74c",
   "metadata": {},
   "outputs": [],
   "source": [
    "df['Peyush_Present'].fillna('No',inplace=True)"
   ]
  },
  {
   "cell_type": "code",
   "execution_count": 54,
   "id": "8a9c522a",
   "metadata": {},
   "outputs": [],
   "source": [
    "df['Amit_Present'].fillna('No',inplace=True)"
   ]
  },
  {
   "cell_type": "code",
   "execution_count": 61,
   "id": "7143932b",
   "metadata": {},
   "outputs": [],
   "source": [
    "df['Namita_Investment_Amount(in lakhs)'].fillna(0,inplace=True)\n",
    "df['Vineeta_Investment_Amount(in_lakhs)'].fillna(0,inplace=True)\n",
    "df['Aman_Investment_Amount(in_lakhs)'].fillna(0,inplace=True)\n",
    "df['Ashneer_Investment_Amount'].fillna(0,inplace=True)\n",
    "df['Anupam_Investment_Amount(in_lakhs)'].fillna(0,inplace=True)\n",
    "df['Peyush_Investment_Amount((in_lakhs)'].fillna(0,inplace=True)\n",
    "df['Amit_Investment_Amount(in_lakhs)'].fillna(0,inplace=True)"
   ]
  },
  {
   "cell_type": "code",
   "execution_count": 67,
   "id": "575aa28a",
   "metadata": {},
   "outputs": [],
   "source": [
    "df.rename(columns={'Namita_Investment_Amount(in lakhs)': 'Namita_Investment_Amount(in_lakhs)',\n",
    "                   'Peyush_Investment_Amount((in_lakhs)': 'Peyush_Investment_Amount(in_lakhs)'}\n",
    "          ,inplace=True)\n"
   ]
  },
  {
   "cell_type": "code",
   "execution_count": 73,
   "id": "9d235ba9",
   "metadata": {},
   "outputs": [],
   "source": [
    "df['Pitchers_City'].fillna(\"Not Mentioned\",inplace=True)"
   ]
  },
  {
   "cell_type": "code",
   "execution_count": 77,
   "id": "a575ea8d",
   "metadata": {},
   "outputs": [],
   "source": [
    "df['Pitchers_State'].fillna(\"Not Mentioned\",inplace=True)"
   ]
  },
  {
   "cell_type": "code",
   "execution_count": 79,
   "id": "abd66ca9",
   "metadata": {},
   "outputs": [
    {
     "data": {
      "text/plain": [
       "Not Mentioned    237\n",
       "0.0               23\n",
       "100.0              8\n",
       "120.0              7\n",
       "1000.0             6\n",
       "                ... \n",
       "1600.0             1\n",
       "114.0              1\n",
       "53.0               1\n",
       "33.0               1\n",
       "320.0              1\n",
       "Name: Yearly_Revenue(in_lakhs), Length: 130, dtype: int64"
      ]
     },
     "execution_count": 79,
     "metadata": {},
     "output_type": "execute_result"
    }
   ],
   "source": [
    "df['Yearly_Revenue(in_lakhs)'].value_counts()"
   ]
  },
  {
   "cell_type": "code",
   "execution_count": 82,
   "id": "f335fc33",
   "metadata": {},
   "outputs": [
    {
     "name": "stdout",
     "output_type": "stream",
     "text": [
      "<class 'pandas.core.frame.DataFrame'>\n",
      "RangeIndex: 478 entries, 0 to 477\n",
      "Data columns (total 52 columns):\n",
      " #   Column                               Non-Null Count  Dtype  \n",
      "---  ------                               --------------  -----  \n",
      " 0   Season_Number                        478 non-null    int64  \n",
      " 1   Startup_Name                         478 non-null    object \n",
      " 2   Episode_Number                       478 non-null    int64  \n",
      " 3   Pitch_Number                         478 non-null    int64  \n",
      " 4   Season_Start                         478 non-null    object \n",
      " 5   Season_End                           478 non-null    object \n",
      " 6   Original_Air_Date                    447 non-null    object \n",
      " 7   Episode_Title                        478 non-null    object \n",
      " 8   Anchor                               478 non-null    object \n",
      " 9   Industry                             478 non-null    object \n",
      " 10  Business_Description                 478 non-null    object \n",
      " 11  Company_Website                      466 non-null    object \n",
      " 12  Started_in                           355 non-null    float64\n",
      " 13  Number_of_Presenters                 478 non-null    int64  \n",
      " 14  Male_Presenters                      478 non-null    int32  \n",
      " 15  Female_Presenters                    478 non-null    int32  \n",
      " 16  Transgender_Presenters               478 non-null    int32  \n",
      " 17  Couple_Presenters                    478 non-null    int32  \n",
      " 18  Pitchers_Average_Age                 478 non-null    object \n",
      " 19  Pitchers_City                        478 non-null    object \n",
      " 20  Pitchers_State                       478 non-null    object \n",
      " 21  Yearly_Revenue(in_lakhs)             478 non-null    object \n",
      " 22  Monthly_Sales(in_lakhs)              478 non-null    object \n",
      " 23  Gross_Margin                         129 non-null    float64\n",
      " 24  Net_Margin                           73 non-null     float64\n",
      " 25  EBITDA                               23 non-null     float64\n",
      " 26  Cash_Burn                            64 non-null     object \n",
      " 27  SKUs                                 28 non-null     float64\n",
      " 28  Has_Patents                          43 non-null     object \n",
      " 29  Bootstrapped                         48 non-null     object \n",
      " 30  Original_Ask_Amount                  478 non-null    float64\n",
      " 31  Original_Offered_Equity(in_%)        478 non-null    float64\n",
      " 32  Valuation_Requested(in_lakhs)        478 non-null    float64\n",
      " 33  Received_Offer                       478 non-null    object \n",
      " 34  Accepted_Offer                       478 non-null    object \n",
      " 35  Total_Deal_Amount(in_lakhs)          478 non-null    int32  \n",
      " 36  Total_Deal_Equity(%)                 478 non-null    int32  \n",
      " 37  Number_of_Sharks_in_Deal             478 non-null    int32  \n",
      " 38  Namita_Investment_Amount(in_lakhs)   478 non-null    float64\n",
      " 39  Vineeta_Investment_Amount(in_lakhs)  478 non-null    float64\n",
      " 40  Anupam_Investment_Amount(in_lakhs)   478 non-null    float64\n",
      " 41  Aman_Investment_Amount(in_lakhs)     478 non-null    float64\n",
      " 42  Peyush_Investment_Amount(in_lakhs)   478 non-null    float64\n",
      " 43  Amit_Investment_Amount(in_lakhs)     478 non-null    float64\n",
      " 44  Ashneer_Investment_Amount            478 non-null    float64\n",
      " 45  Namita_Present                       478 non-null    object \n",
      " 46  Vineeta_Present                      478 non-null    object \n",
      " 47  Anupam_Present                       478 non-null    object \n",
      " 48  Aman_Present                         478 non-null    object \n",
      " 49  Peyush_Present                       478 non-null    object \n",
      " 50  Amit_Present                         478 non-null    object \n",
      " 51  Ashneer_Present                      478 non-null    object \n",
      "dtypes: float64(15), int32(7), int64(4), object(26)\n",
      "memory usage: 181.2+ KB\n"
     ]
    }
   ],
   "source": [
    "df.info()"
   ]
  },
  {
   "cell_type": "code",
   "execution_count": 84,
   "id": "9b6eb0f4",
   "metadata": {},
   "outputs": [],
   "source": [
    "df['Season_Start']=pd.to_datetime(df['Season_Start'])\n",
    "df['Season_End']=pd.to_datetime(df['Season_End'])\n",
    "df['Original_Air_Date']=pd.to_datetime(df['Original_Air_Date'])"
   ]
  },
  {
   "cell_type": "code",
   "execution_count": 87,
   "id": "b875a8b8",
   "metadata": {},
   "outputs": [],
   "source": [
    "df['Pitchers_State']=df['Pitchers_State'].str.replace(\"0\",\"\")"
   ]
  },
  {
   "cell_type": "code",
   "execution_count": 92,
   "id": "5f840ca4",
   "metadata": {},
   "outputs": [],
   "source": [
    "df['Episode_Title']=df['Episode_Title'].str.replace(\"0\",' ')"
   ]
  },
  {
   "cell_type": "code",
   "execution_count": 93,
   "id": "13a1673e",
   "metadata": {},
   "outputs": [],
   "source": [
    "df['Anchor']= df['Anchor'].str.replace('0',' ')\n",
    "df['Industry']= df['Industry'].str.replace('0',' ')\n",
    "df['Business_Description']=df['Business_Description'].str.replace('0',' ')"
   ]
  },
  {
   "cell_type": "code",
   "execution_count": 96,
   "id": "d46c3d04",
   "metadata": {},
   "outputs": [],
   "source": [
    "df['Started_in'].fillna(\"Not Mentioned\",inplace=True)"
   ]
  },
  {
   "cell_type": "code",
   "execution_count": 98,
   "id": "d7be716b",
   "metadata": {},
   "outputs": [
    {
     "data": {
      "text/plain": [
       "Season_Number                            0\n",
       "Startup_Name                             0\n",
       "Episode_Number                           0\n",
       "Pitch_Number                             0\n",
       "Season_Start                             0\n",
       "Season_End                               0\n",
       "Original_Air_Date                       31\n",
       "Episode_Title                            0\n",
       "Anchor                                   0\n",
       "Industry                                 0\n",
       "Business_Description                     0\n",
       "Company_Website                         12\n",
       "Started_in                               0\n",
       "Number_of_Presenters                     0\n",
       "Male_Presenters                          0\n",
       "Female_Presenters                        0\n",
       "Transgender_Presenters                   0\n",
       "Couple_Presenters                        0\n",
       "Pitchers_Average_Age                     0\n",
       "Pitchers_City                            0\n",
       "Pitchers_State                           0\n",
       "Yearly_Revenue(in_lakhs)                 0\n",
       "Monthly_Sales(in_lakhs)                  0\n",
       "Gross_Margin                           349\n",
       "Net_Margin                             405\n",
       "EBITDA                                 455\n",
       "Cash_Burn                              414\n",
       "SKUs                                   450\n",
       "Has_Patents                            435\n",
       "Bootstrapped                           430\n",
       "Original_Ask_Amount                      0\n",
       "Original_Offered_Equity(in_%)            0\n",
       "Valuation_Requested(in_lakhs)            0\n",
       "Received_Offer                           0\n",
       "Accepted_Offer                           0\n",
       "Total_Deal_Amount(in_lakhs)              0\n",
       "Total_Deal_Equity(%)                     0\n",
       "Number_of_Sharks_in_Deal                 0\n",
       "Namita_Investment_Amount(in_lakhs)       0\n",
       "Vineeta_Investment_Amount(in_lakhs)      0\n",
       "Anupam_Investment_Amount(in_lakhs)       0\n",
       "Aman_Investment_Amount(in_lakhs)         0\n",
       "Peyush_Investment_Amount(in_lakhs)       0\n",
       "Amit_Investment_Amount(in_lakhs)         0\n",
       "Ashneer_Investment_Amount                0\n",
       "Namita_Present                           0\n",
       "Vineeta_Present                          0\n",
       "Anupam_Present                           0\n",
       "Aman_Present                             0\n",
       "Peyush_Present                           0\n",
       "Amit_Present                             0\n",
       "Ashneer_Present                          0\n",
       "dtype: int64"
      ]
     },
     "execution_count": 98,
     "metadata": {},
     "output_type": "execute_result"
    }
   ],
   "source": [
    "df.isna().sum()"
   ]
  },
  {
   "cell_type": "code",
   "execution_count": 99,
   "id": "578b8b1b",
   "metadata": {},
   "outputs": [],
   "source": [
    "df.drop(columns=['Company_Website','Original_Air_Date','Episode_Title','Gross_Margin','Net_Margin','EBITDA','Cash_Burn','SKUs','Has_Patents','Bootstrapped'], inplace=True)"
   ]
  },
  {
   "cell_type": "code",
   "execution_count": 100,
   "id": "b84c5216",
   "metadata": {},
   "outputs": [
    {
     "data": {
      "text/plain": [
       "Season_Number                          0\n",
       "Startup_Name                           0\n",
       "Episode_Number                         0\n",
       "Pitch_Number                           0\n",
       "Season_Start                           0\n",
       "Season_End                             0\n",
       "Anchor                                 0\n",
       "Industry                               0\n",
       "Business_Description                   0\n",
       "Started_in                             0\n",
       "Number_of_Presenters                   0\n",
       "Male_Presenters                        0\n",
       "Female_Presenters                      0\n",
       "Transgender_Presenters                 0\n",
       "Couple_Presenters                      0\n",
       "Pitchers_Average_Age                   0\n",
       "Pitchers_City                          0\n",
       "Pitchers_State                         0\n",
       "Yearly_Revenue(in_lakhs)               0\n",
       "Monthly_Sales(in_lakhs)                0\n",
       "Original_Ask_Amount                    0\n",
       "Original_Offered_Equity(in_%)          0\n",
       "Valuation_Requested(in_lakhs)          0\n",
       "Received_Offer                         0\n",
       "Accepted_Offer                         0\n",
       "Total_Deal_Amount(in_lakhs)            0\n",
       "Total_Deal_Equity(%)                   0\n",
       "Number_of_Sharks_in_Deal               0\n",
       "Namita_Investment_Amount(in_lakhs)     0\n",
       "Vineeta_Investment_Amount(in_lakhs)    0\n",
       "Anupam_Investment_Amount(in_lakhs)     0\n",
       "Aman_Investment_Amount(in_lakhs)       0\n",
       "Peyush_Investment_Amount(in_lakhs)     0\n",
       "Amit_Investment_Amount(in_lakhs)       0\n",
       "Ashneer_Investment_Amount              0\n",
       "Namita_Present                         0\n",
       "Vineeta_Present                        0\n",
       "Anupam_Present                         0\n",
       "Aman_Present                           0\n",
       "Peyush_Present                         0\n",
       "Amit_Present                           0\n",
       "Ashneer_Present                        0\n",
       "dtype: int64"
      ]
     },
     "execution_count": 100,
     "metadata": {},
     "output_type": "execute_result"
    }
   ],
   "source": [
    "df.isna().sum()"
   ]
  },
  {
   "cell_type": "code",
   "execution_count": 103,
   "id": "14e9baea",
   "metadata": {},
   "outputs": [
    {
     "name": "stdout",
     "output_type": "stream",
     "text": [
      "<class 'pandas.core.frame.DataFrame'>\n",
      "RangeIndex: 478 entries, 0 to 477\n",
      "Data columns (total 42 columns):\n",
      " #   Column                               Non-Null Count  Dtype         \n",
      "---  ------                               --------------  -----         \n",
      " 0   Season_Number                        478 non-null    int64         \n",
      " 1   Startup_Name                         478 non-null    object        \n",
      " 2   Episode_Number                       478 non-null    int64         \n",
      " 3   Pitch_Number                         478 non-null    int64         \n",
      " 4   Season_Start                         478 non-null    datetime64[ns]\n",
      " 5   Season_End                           478 non-null    datetime64[ns]\n",
      " 6   Anchor                               478 non-null    object        \n",
      " 7   Industry                             478 non-null    object        \n",
      " 8   Business_Description                 478 non-null    object        \n",
      " 9   Started_in                           478 non-null    object        \n",
      " 10  Number_of_Presenters                 478 non-null    int64         \n",
      " 11  Male_Presenters                      478 non-null    int32         \n",
      " 12  Female_Presenters                    478 non-null    int32         \n",
      " 13  Transgender_Presenters               478 non-null    int32         \n",
      " 14  Couple_Presenters                    478 non-null    int32         \n",
      " 15  Pitchers_Average_Age                 478 non-null    object        \n",
      " 16  Pitchers_City                        478 non-null    object        \n",
      " 17  Pitchers_State                       478 non-null    object        \n",
      " 18  Yearly_Revenue(in_lakhs)             478 non-null    object        \n",
      " 19  Monthly_Sales(in_lakhs)              478 non-null    object        \n",
      " 20  Original_Ask_Amount                  478 non-null    float64       \n",
      " 21  Original_Offered_Equity(in_%)        478 non-null    float64       \n",
      " 22  Valuation_Requested(in_lakhs)        478 non-null    float64       \n",
      " 23  Received_Offer                       478 non-null    object        \n",
      " 24  Accepted_Offer                       478 non-null    object        \n",
      " 25  Total_Deal_Amount(in_lakhs)          478 non-null    int32         \n",
      " 26  Total_Deal_Equity(%)                 478 non-null    int32         \n",
      " 27  Number_of_Sharks_in_Deal             478 non-null    int32         \n",
      " 28  Namita_Investment_Amount(in_lakhs)   478 non-null    float64       \n",
      " 29  Vineeta_Investment_Amount(in_lakhs)  478 non-null    float64       \n",
      " 30  Anupam_Investment_Amount(in_lakhs)   478 non-null    float64       \n",
      " 31  Aman_Investment_Amount(in_lakhs)     478 non-null    float64       \n",
      " 32  Peyush_Investment_Amount(in_lakhs)   478 non-null    float64       \n",
      " 33  Amit_Investment_Amount(in_lakhs)     478 non-null    float64       \n",
      " 34  Ashneer_Investment_Amount            478 non-null    float64       \n",
      " 35  Namita_Present                       478 non-null    object        \n",
      " 36  Vineeta_Present                      478 non-null    object        \n",
      " 37  Anupam_Present                       478 non-null    object        \n",
      " 38  Aman_Present                         478 non-null    object        \n",
      " 39  Peyush_Present                       478 non-null    object        \n",
      " 40  Amit_Present                         478 non-null    object        \n",
      " 41  Ashneer_Present                      478 non-null    object        \n",
      "dtypes: datetime64[ns](2), float64(10), int32(7), int64(4), object(19)\n",
      "memory usage: 143.9+ KB\n"
     ]
    }
   ],
   "source": [
    "df.info()"
   ]
  },
  {
   "cell_type": "code",
   "execution_count": 104,
   "id": "21a55c2d",
   "metadata": {},
   "outputs": [],
   "source": [
    "df.to_csv('sharktank.csv',index=False)"
   ]
  },
  {
   "cell_type": "code",
   "execution_count": 3,
   "id": "f50d83a5",
   "metadata": {},
   "outputs": [
    {
     "name": "stdout",
     "output_type": "stream",
     "text": [
      "<class 'pandas.core.frame.DataFrame'>\n",
      "RangeIndex: 478 entries, 0 to 477\n",
      "Data columns (total 42 columns):\n",
      " #   Column                               Non-Null Count  Dtype  \n",
      "---  ------                               --------------  -----  \n",
      " 0   Season_Number                        478 non-null    int64  \n",
      " 1   Startup_Name                         478 non-null    object \n",
      " 2   Episode_Number                       478 non-null    int64  \n",
      " 3   Pitch_Number                         478 non-null    int64  \n",
      " 4   Season_Start                         478 non-null    object \n",
      " 5   Season_End                           478 non-null    object \n",
      " 6   Anchor                               478 non-null    object \n",
      " 7   Industry                             478 non-null    object \n",
      " 8   Business_Description                 478 non-null    object \n",
      " 9   Started_in                           478 non-null    object \n",
      " 10  Number_of_Presenters                 478 non-null    int64  \n",
      " 11  Male_Presenters                      478 non-null    int64  \n",
      " 12  Female_Presenters                    478 non-null    int64  \n",
      " 13  Transgender_Presenters               478 non-null    int64  \n",
      " 14  Couple_Presenters                    478 non-null    int64  \n",
      " 15  Pitchers_Average_Age                 478 non-null    object \n",
      " 16  Pitchers_City                        478 non-null    object \n",
      " 17  Pitchers_State                       478 non-null    object \n",
      " 18  Yearly_Revenue(in_lakhs)             478 non-null    object \n",
      " 19  Monthly_Sales(in_lakhs)              478 non-null    object \n",
      " 20  Original_Ask_Amount                  478 non-null    float64\n",
      " 21  Original_Offered_Equity(in_%)        478 non-null    float64\n",
      " 22  Valuation_Requested(in_lakhs)        478 non-null    float64\n",
      " 23  Received_Offer                       478 non-null    object \n",
      " 24  Accepted_Offer                       478 non-null    object \n",
      " 25  Total_Deal_Amount(in_lakhs)          478 non-null    int64  \n",
      " 26  Total_Deal_Equity(%)                 478 non-null    int64  \n",
      " 27  Number_of_Sharks_in_Deal             478 non-null    int64  \n",
      " 28  Namita_Investment_Amount(in_lakhs)   478 non-null    float64\n",
      " 29  Vineeta_Investment_Amount(in_lakhs)  478 non-null    float64\n",
      " 30  Anupam_Investment_Amount(in_lakhs)   478 non-null    float64\n",
      " 31  Aman_Investment_Amount(in_lakhs)     478 non-null    float64\n",
      " 32  Peyush_Investment_Amount(in_lakhs)   478 non-null    float64\n",
      " 33  Amit_Investment_Amount(in_lakhs)     478 non-null    float64\n",
      " 34  Ashneer_Investment_Amount            478 non-null    float64\n",
      " 35  Namita_Present                       478 non-null    object \n",
      " 36  Vineeta_Present                      478 non-null    object \n",
      " 37  Anupam_Present                       478 non-null    object \n",
      " 38  Aman_Present                         478 non-null    object \n",
      " 39  Peyush_Present                       478 non-null    object \n",
      " 40  Amit_Present                         478 non-null    object \n",
      " 41  Ashneer_Present                      478 non-null    object \n",
      "dtypes: float64(10), int64(11), object(21)\n",
      "memory usage: 157.0+ KB\n"
     ]
    }
   ],
   "source": [
    "df=pd.read_csv('sharktank.csv')\n",
    "df.info()"
   ]
  },
  {
   "cell_type": "code",
   "execution_count": null,
   "id": "196a0c4c",
   "metadata": {},
   "outputs": [],
   "source": []
  }
 ],
 "metadata": {
  "kernelspec": {
   "display_name": "Python 3 (ipykernel)",
   "language": "python",
   "name": "python3"
  },
  "language_info": {
   "codemirror_mode": {
    "name": "ipython",
    "version": 3
   },
   "file_extension": ".py",
   "mimetype": "text/x-python",
   "name": "python",
   "nbconvert_exporter": "python",
   "pygments_lexer": "ipython3",
   "version": "3.10.9"
  }
 },
 "nbformat": 4,
 "nbformat_minor": 5
}
